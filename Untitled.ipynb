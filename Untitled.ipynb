{
 "cells": [
  {
   "cell_type": "code",
   "execution_count": 37,
   "metadata": {},
   "outputs": [],
   "source": [
    "\n",
    "from math import sqrt\n",
    "from random import random\n",
    "\n",
    "N = 10000000\n",
    "Compteur= 0\n",
    "\n",
    "for i in range(N):\n",
    "    x = random()\n",
    "    y = random()\n",
    "    r = sqrt(x**2+y**2)\n",
    "    if r <= 1:\n",
    "        Compteur = Compteur + 1\n",
    "\n",
    "Pi = 4 * Compteur / N\n",
    "print(Pi)"
   ]
  },
  {
   "cell_type": "code",
   "execution_count": 44,
   "metadata": {},
   "outputs": [
    {
     "data": {
      "text/plain": [
       "2"
      ]
     },
     "execution_count": 44,
     "metadata": {},
     "output_type": "execute_result"
    }
   ],
   "source": [
    "7/3"
   ]
  },
  {
   "cell_type": "code",
   "execution_count": 45,
   "metadata": {},
   "outputs": [],
   "source": [
    "from joblib import Parallel, delayed\n",
    "import multiprocessing\n",
    "     \n",
    "# what are your inputs, and what operation do you want to \n",
    "# perform on each input. For example...\n",
    "inputs = range(10) \n",
    "def processInput(i):\n",
    "    return i * i\n",
    " \n",
    "num_cores = multiprocessing.cpu_count()\n",
    "     \n",
    "results = Parallel(n_jobs=num_cores)(delayed(processInput)(i) for i in inputs)"
   ]
  },
  {
   "cell_type": "code",
   "execution_count": 47,
   "metadata": {},
   "outputs": [
    {
     "data": {
      "text/plain": [
       "[0, 1, 4, 9, 16, 25, 36, 49, 64, 81]"
      ]
     },
     "execution_count": 47,
     "metadata": {},
     "output_type": "execute_result"
    }
   ],
   "source": [
    "results"
   ]
  },
  {
   "cell_type": "code",
   "execution_count": 29,
   "metadata": {},
   "outputs": [
    {
     "data": {
      "text/plain": [
       "3.0"
      ]
     },
     "execution_count": 29,
     "metadata": {},
     "output_type": "execute_result"
    }
   ],
   "source": [
    "https://github.com/nuage01/dipou"
   ]
  },
  {
   "cell_type": "code",
   "execution_count": 59,
   "metadata": {},
   "outputs": [
    {
     "name": "stdout",
     "output_type": "stream",
     "text": [
      "7855839\n",
      "0\n"
     ]
    }
   ],
   "source": [
    "# Monte carlo Pi\n",
    "from math import sqrt\n",
    "from random import random\n",
    "from joblib import Parallel, delayed\n",
    "from joblib import parallel_backend\n",
    "#N = 10000000\n",
    "global COMPTEUR\n",
    "def calcul(N,COMPTEUR):\n",
    "    for i in range(N):\n",
    "        x = random()\n",
    "        y = random()\n",
    "        r = sqrt(x**2+y**2)\n",
    "        if r <= 1:\n",
    "            COMPTEUR = COMPTEUR + 1\n",
    "    return COMPTEUR\n",
    "a =calcul(N,COMPTEUR)\n",
    "print(a)\n",
    "\n",
    "Pi = 4 * COMPTEUR / N\n",
    "print(Pi)"
   ]
  },
  {
   "cell_type": "code",
   "execution_count": 71,
   "metadata": {},
   "outputs": [
    {
     "name": "stdout",
     "output_type": "stream",
     "text": [
      "[3953, 3946]\n",
      "7899\n",
      "3\n"
     ]
    }
   ],
   "source": [
    "# Monte carlo Pi\n",
    "from math import sqrt\n",
    "from random import random\n",
    "from joblib import Parallel, delayed\n",
    "from joblib import parallel_backend\n",
    "opt = [5000, 5000, 10000]\n",
    "global COMPTEUR\n",
    "def calcul(N,COMPTEUR):\n",
    "    for i in range(N):\n",
    "        x = random()\n",
    "        y = random()\n",
    "        r = sqrt(x**2+y**2)\n",
    "        if r <= 1:\n",
    "            COMPTEUR = COMPTEUR + 1\n",
    "    return COMPTEUR\n",
    "with parallel_backend('threading', n_jobs=2):\n",
    "   result = Parallel()(delayed(calcul)(N,COMPTEUR) for N in opt)\n",
    "\n",
    "calculated = sum(result)\n",
    "Pi = 4 * calculated / sum(N)\n",
    "print(Pi)"
   ]
  },
  {
   "cell_type": "code",
   "execution_count": null,
   "metadata": {},
   "outputs": [],
   "source": []
  }
 ],
 "metadata": {
  "kernelspec": {
   "display_name": "Python 2",
   "language": "python",
   "name": "python2"
  },
  "language_info": {
   "codemirror_mode": {
    "name": "ipython",
    "version": 2
   },
   "file_extension": ".py",
   "mimetype": "text/x-python",
   "name": "python",
   "nbconvert_exporter": "python",
   "pygments_lexer": "ipython2",
   "version": "2.7.17"
  }
 },
 "nbformat": 4,
 "nbformat_minor": 2
}
